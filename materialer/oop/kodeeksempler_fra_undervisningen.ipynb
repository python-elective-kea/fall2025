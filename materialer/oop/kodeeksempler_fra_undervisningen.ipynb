{
 "cells": [
  {
   "cell_type": "markdown",
   "id": "10c3d94a",
   "metadata": {},
   "source": [
    "# Kode fra undervisningen"
   ]
  },
  {
   "cell_type": "markdown",
   "id": "1a2693b4",
   "metadata": {},
   "source": [
    "## Declaration of a class"
   ]
  },
  {
   "cell_type": "code",
   "execution_count": 2,
   "id": "86adcf4c",
   "metadata": {},
   "outputs": [],
   "source": [
    "class Person:\n",
    "    pass"
   ]
  },
  {
   "cell_type": "markdown",
   "id": "9d07bb64",
   "metadata": {},
   "source": [
    "create an instance of the class"
   ]
  },
  {
   "cell_type": "code",
   "execution_count": 4,
   "id": "919813bb",
   "metadata": {},
   "outputs": [
    {
     "data": {
      "text/plain": [
       "<__main__.Person at 0x107677110>"
      ]
     },
     "execution_count": 4,
     "metadata": {},
     "output_type": "execute_result"
    }
   ],
   "source": [
    "p1 = Person()\n",
    "p1"
   ]
  },
  {
   "cell_type": "markdown",
   "id": "7d909725",
   "metadata": {},
   "source": [
    "Adding instance variables"
   ]
  },
  {
   "cell_type": "code",
   "execution_count": null,
   "id": "9661483e",
   "metadata": {},
   "outputs": [
    {
     "data": {
      "text/plain": [
       "{'name': 'Claus', 'age': 23, 'gender': 'M'}"
      ]
     },
     "execution_count": 12,
     "metadata": {},
     "output_type": "execute_result"
    }
   ],
   "source": [
    "p1.name = 'Claus'\n",
    "p1.age = 23\n",
    "p1.gender = 'M'\n",
    "\n",
    "vars(p1)\n",
    "p1.__dict__"
   ]
  },
  {
   "cell_type": "markdown",
   "id": "d5381a6b",
   "metadata": {},
   "source": [
    "## Creating an initializer"
   ]
  },
  {
   "cell_type": "code",
   "execution_count": null,
   "id": "dbd4de18",
   "metadata": {},
   "outputs": [
    {
     "data": {
      "text/plain": [
       "{'name': 'Claus', 'age': 23, 'gender': 'M', 'xxx': 78787}"
      ]
     },
     "execution_count": 43,
     "metadata": {},
     "output_type": "execute_result"
    }
   ],
   "source": [
    "class Person:\n",
    "\n",
    "    def __init__(self, name=None, age=None, gender=None):  # this\n",
    "        if name != None:\n",
    "            self.name = name\n",
    "        if age != None:\n",
    "            self.age = age\n",
    "        if gender != None:\n",
    "            self.gender = gender \n",
    "  \n",
    "    \"\"\"\n",
    "    def __init__(self, *args, **kwargs):\n",
    "        \n",
    "        #self.name = kwargs['name']\n",
    "        \n",
    "        self.name = args[0]\n",
    "        self.age = args[1]\n",
    "        if len(args) > 2:\n",
    "            self.gender = args[2]\n",
    "    \n",
    "    \"\"\"\n",
    "\n",
    "p1 = Person('Claus', 23,'M')\n",
    "p2 = Person('Anna', 44)\n",
    "\n",
    "p1.__dict__\n"
   ]
  },
  {
   "cell_type": "markdown",
   "id": "a4fa358e",
   "metadata": {},
   "source": [
    "## Instance and class variables"
   ]
  },
  {
   "cell_type": "code",
   "execution_count": 45,
   "id": "bfba8821",
   "metadata": {},
   "outputs": [
    {
     "data": {
      "text/plain": [
       "'Mammel'"
      ]
     },
     "execution_count": 45,
     "metadata": {},
     "output_type": "execute_result"
    }
   ],
   "source": [
    "class Person:\n",
    "\n",
    "    type = 'Mammel'  # class variable\n",
    "\n",
    "    def __init__(self, name):\n",
    "        self.name = name  # instans variabel\n",
    "\n",
    "p1 = Person('Claus')\n",
    "p1.name\n",
    "p1.type"
   ]
  },
  {
   "cell_type": "markdown",
   "id": "6ca1d613",
   "metadata": {},
   "source": [
    "## Public / Private in python"
   ]
  },
  {
   "cell_type": "code",
   "execution_count": 55,
   "id": "e6e79cc8",
   "metadata": {},
   "outputs": [
    {
     "data": {
      "text/plain": [
       "'Anna'"
      ]
     },
     "execution_count": 55,
     "metadata": {},
     "output_type": "execute_result"
    }
   ],
   "source": [
    "class Person:\n",
    "    def __init__(self, name):\n",
    "        self._name = name  # opfattet som private\n",
    "\n",
    "    def get_name(self):\n",
    "        return self._name\n",
    "\n",
    "    def set_name(self, name):\n",
    "        self._name = name\n",
    "\n",
    "\n",
    "p1 = Person('Claus')\n",
    "\n",
    "p1.set_name('Anna')\n",
    "p1.get_name()"
   ]
  },
  {
   "cell_type": "markdown",
   "id": "170e11d2",
   "metadata": {},
   "source": [
    "## Add / Change instance variables after declaration"
   ]
  },
  {
   "cell_type": "code",
   "execution_count": null,
   "id": "215e9b48",
   "metadata": {},
   "outputs": [],
   "source": []
  },
  {
   "cell_type": "markdown",
   "id": "273aef7a",
   "metadata": {},
   "source": [
    "## Add / Change class variables after declaration"
   ]
  },
  {
   "cell_type": "code",
   "execution_count": null,
   "id": "f48af88d",
   "metadata": {},
   "outputs": [],
   "source": []
  },
  {
   "cell_type": "markdown",
   "id": "0ec71c70",
   "metadata": {},
   "source": [
    "## Instance methods"
   ]
  },
  {
   "cell_type": "code",
   "execution_count": null,
   "id": "62541388",
   "metadata": {},
   "outputs": [],
   "source": []
  },
  {
   "cell_type": "markdown",
   "id": "330e5db7",
   "metadata": {},
   "source": [
    "## @Overloading"
   ]
  },
  {
   "cell_type": "code",
   "execution_count": null,
   "id": "561ac398",
   "metadata": {},
   "outputs": [],
   "source": []
  },
  {
   "cell_type": "markdown",
   "id": "ce641c54",
   "metadata": {},
   "source": [
    "## Inheritance"
   ]
  },
  {
   "cell_type": "code",
   "execution_count": null,
   "id": "2704b2ba",
   "metadata": {},
   "outputs": [
    {
     "data": {
      "text/plain": [
       "{'_name': 'Fido', 'sound': 'Wuf'}"
      ]
     },
     "execution_count": 58,
     "metadata": {},
     "output_type": "execute_result"
    }
   ],
   "source": [
    "class Mammel:\n",
    "    def __init__(self, name):\n",
    "        self._name = name\n",
    "\n",
    "\n",
    "class Dog(Mammel):\n",
    "    def __init__(self, name, sound):\n",
    "        super().__init__(name)\n",
    "        self.sound = sound\n",
    "\n",
    "\n",
    "fido = Dog('Fido', 'Wuf')\n",
    "\n",
    "fido.__dict__"
   ]
  },
  {
   "cell_type": "code",
   "execution_count": 61,
   "id": "8e788bca",
   "metadata": {},
   "outputs": [
    {
     "name": "stdout",
     "output_type": "stream",
     "text": [
      "Help on class int in module builtins:\n",
      "\n",
      "class int(object)\n",
      " |  int([x]) -> integer\n",
      " |  int(x, base=10) -> integer\n",
      " |\n",
      " |  Convert a number or string to an integer, or return 0 if no arguments\n",
      " |  are given.  If x is a number, return x.__int__().  For floating-point\n",
      " |  numbers, this truncates towards zero.\n",
      " |\n",
      " |  If x is not a number or if base is given, then x must be a string,\n",
      " |  bytes, or bytearray instance representing an integer literal in the\n",
      " |  given base.  The literal can be preceded by '+' or '-' and be surrounded\n",
      " |  by whitespace.  The base defaults to 10.  Valid bases are 0 and 2-36.\n",
      " |  Base 0 means to interpret the base from the string as an integer literal.\n",
      " |  >>> int('0b100', base=0)\n",
      " |  4\n",
      " |\n",
      " |  Built-in subclasses:\n",
      " |      bool\n",
      " |\n",
      " |  Methods defined here:\n",
      " |\n",
      " |  __abs__(self, /)\n",
      " |      abs(self)\n",
      " |\n",
      " |  __add__(self, value, /)\n",
      " |      Return self+value.\n",
      " |\n",
      " |  __and__(self, value, /)\n",
      " |      Return self&value.\n",
      " |\n",
      " |  __bool__(self, /)\n",
      " |      True if self else False\n",
      " |\n",
      " |  __ceil__(self, /)\n",
      " |      Ceiling of an Integral returns itself.\n",
      " |\n",
      " |  __divmod__(self, value, /)\n",
      " |      Return divmod(self, value).\n",
      " |\n",
      " |  __eq__(self, value, /)\n",
      " |      Return self==value.\n",
      " |\n",
      " |  __float__(self, /)\n",
      " |      float(self)\n",
      " |\n",
      " |  __floor__(self, /)\n",
      " |      Flooring an Integral returns itself.\n",
      " |\n",
      " |  __floordiv__(self, value, /)\n",
      " |      Return self//value.\n",
      " |\n",
      " |  __format__(self, format_spec, /)\n",
      " |      Convert to a string according to format_spec.\n",
      " |\n",
      " |  __ge__(self, value, /)\n",
      " |      Return self>=value.\n",
      " |\n",
      " |  __getattribute__(self, name, /)\n",
      " |      Return getattr(self, name).\n",
      " |\n",
      " |  __getnewargs__(self, /)\n",
      " |\n",
      " |  __gt__(self, value, /)\n",
      " |      Return self>value.\n",
      " |\n",
      " |  __hash__(self, /)\n",
      " |      Return hash(self).\n",
      " |\n",
      " |  __index__(self, /)\n",
      " |      Return self converted to an integer, if self is suitable for use as an index into a list.\n",
      " |\n",
      " |  __int__(self, /)\n",
      " |      int(self)\n",
      " |\n",
      " |  __invert__(self, /)\n",
      " |      ~self\n",
      " |\n",
      " |  __le__(self, value, /)\n",
      " |      Return self<=value.\n",
      " |\n",
      " |  __lshift__(self, value, /)\n",
      " |      Return self<<value.\n",
      " |\n",
      " |  __lt__(self, value, /)\n",
      " |      Return self<value.\n",
      " |\n",
      " |  __mod__(self, value, /)\n",
      " |      Return self%value.\n",
      " |\n",
      " |  __mul__(self, value, /)\n",
      " |      Return self*value.\n",
      " |\n",
      " |  __ne__(self, value, /)\n",
      " |      Return self!=value.\n",
      " |\n",
      " |  __neg__(self, /)\n",
      " |      -self\n",
      " |\n",
      " |  __or__(self, value, /)\n",
      " |      Return self|value.\n",
      " |\n",
      " |  __pos__(self, /)\n",
      " |      +self\n",
      " |\n",
      " |  __pow__(self, value, mod=None, /)\n",
      " |      Return pow(self, value, mod).\n",
      " |\n",
      " |  __radd__(self, value, /)\n",
      " |      Return value+self.\n",
      " |\n",
      " |  __rand__(self, value, /)\n",
      " |      Return value&self.\n",
      " |\n",
      " |  __rdivmod__(self, value, /)\n",
      " |      Return divmod(value, self).\n",
      " |\n",
      " |  __repr__(self, /)\n",
      " |      Return repr(self).\n",
      " |\n",
      " |  __rfloordiv__(self, value, /)\n",
      " |      Return value//self.\n",
      " |\n",
      " |  __rlshift__(self, value, /)\n",
      " |      Return value<<self.\n",
      " |\n",
      " |  __rmod__(self, value, /)\n",
      " |      Return value%self.\n",
      " |\n",
      " |  __rmul__(self, value, /)\n",
      " |      Return value*self.\n",
      " |\n",
      " |  __ror__(self, value, /)\n",
      " |      Return value|self.\n",
      " |\n",
      " |  __round__(self, ndigits=<unrepresentable>, /)\n",
      " |      Rounding an Integral returns itself.\n",
      " |\n",
      " |      Rounding with an ndigits argument also returns an integer.\n",
      " |\n",
      " |  __rpow__(self, value, mod=None, /)\n",
      " |      Return pow(value, self, mod).\n",
      " |\n",
      " |  __rrshift__(self, value, /)\n",
      " |      Return value>>self.\n",
      " |\n",
      " |  __rshift__(self, value, /)\n",
      " |      Return self>>value.\n",
      " |\n",
      " |  __rsub__(self, value, /)\n",
      " |      Return value-self.\n",
      " |\n",
      " |  __rtruediv__(self, value, /)\n",
      " |      Return value/self.\n",
      " |\n",
      " |  __rxor__(self, value, /)\n",
      " |      Return value^self.\n",
      " |\n",
      " |  __sizeof__(self, /)\n",
      " |      Returns size in memory, in bytes.\n",
      " |\n",
      " |  __sub__(self, value, /)\n",
      " |      Return self-value.\n",
      " |\n",
      " |  __truediv__(self, value, /)\n",
      " |      Return self/value.\n",
      " |\n",
      " |  __trunc__(self, /)\n",
      " |      Truncating an Integral returns itself.\n",
      " |\n",
      " |  __xor__(self, value, /)\n",
      " |      Return self^value.\n",
      " |\n",
      " |  as_integer_ratio(self, /)\n",
      " |      Return a pair of integers, whose ratio is equal to the original int.\n",
      " |\n",
      " |      The ratio is in lowest terms and has a positive denominator.\n",
      " |\n",
      " |      >>> (10).as_integer_ratio()\n",
      " |      (10, 1)\n",
      " |      >>> (-10).as_integer_ratio()\n",
      " |      (-10, 1)\n",
      " |      >>> (0).as_integer_ratio()\n",
      " |      (0, 1)\n",
      " |\n",
      " |  bit_count(self, /)\n",
      " |      Number of ones in the binary representation of the absolute value of self.\n",
      " |\n",
      " |      Also known as the population count.\n",
      " |\n",
      " |      >>> bin(13)\n",
      " |      '0b1101'\n",
      " |      >>> (13).bit_count()\n",
      " |      3\n",
      " |\n",
      " |  bit_length(self, /)\n",
      " |      Number of bits necessary to represent self in binary.\n",
      " |\n",
      " |      >>> bin(37)\n",
      " |      '0b100101'\n",
      " |      >>> (37).bit_length()\n",
      " |      6\n",
      " |\n",
      " |  conjugate(self, /)\n",
      " |      Returns self, the complex conjugate of any int.\n",
      " |\n",
      " |  is_integer(self, /)\n",
      " |      Returns True. Exists for duck type compatibility with float.is_integer.\n",
      " |\n",
      " |  to_bytes(self, /, length=1, byteorder='big', *, signed=False)\n",
      " |      Return an array of bytes representing an integer.\n",
      " |\n",
      " |      length\n",
      " |        Length of bytes object to use.  An OverflowError is raised if the\n",
      " |        integer is not representable with the given number of bytes.  Default\n",
      " |        is length 1.\n",
      " |      byteorder\n",
      " |        The byte order used to represent the integer.  If byteorder is 'big',\n",
      " |        the most significant byte is at the beginning of the byte array.  If\n",
      " |        byteorder is 'little', the most significant byte is at the end of the\n",
      " |        byte array.  To request the native byte order of the host system, use\n",
      " |        sys.byteorder as the byte order value.  Default is to use 'big'.\n",
      " |      signed\n",
      " |        Determines whether two's complement is used to represent the integer.\n",
      " |        If signed is False and a negative integer is given, an OverflowError\n",
      " |        is raised.\n",
      " |\n",
      " |  ----------------------------------------------------------------------\n",
      " |  Class methods defined here:\n",
      " |\n",
      " |  from_bytes(bytes, byteorder='big', *, signed=False)\n",
      " |      Return the integer represented by the given array of bytes.\n",
      " |\n",
      " |      bytes\n",
      " |        Holds the array of bytes to convert.  The argument must either\n",
      " |        support the buffer protocol or be an iterable object producing bytes.\n",
      " |        Bytes and bytearray are examples of built-in objects that support the\n",
      " |        buffer protocol.\n",
      " |      byteorder\n",
      " |        The byte order used to represent the integer.  If byteorder is 'big',\n",
      " |        the most significant byte is at the beginning of the byte array.  If\n",
      " |        byteorder is 'little', the most significant byte is at the end of the\n",
      " |        byte array.  To request the native byte order of the host system, use\n",
      " |        sys.byteorder as the byte order value.  Default is to use 'big'.\n",
      " |      signed\n",
      " |        Indicates whether two's complement is used to represent the integer.\n",
      " |\n",
      " |  ----------------------------------------------------------------------\n",
      " |  Static methods defined here:\n",
      " |\n",
      " |  __new__(*args, **kwargs)\n",
      " |      Create and return a new object.  See help(type) for accurate signature.\n",
      " |\n",
      " |  ----------------------------------------------------------------------\n",
      " |  Data descriptors defined here:\n",
      " |\n",
      " |  denominator\n",
      " |      the denominator of a rational number in lowest terms\n",
      " |\n",
      " |  imag\n",
      " |      the imaginary part of a complex number\n",
      " |\n",
      " |  numerator\n",
      " |      the numerator of a rational number in lowest terms\n",
      " |\n",
      " |  real\n",
      " |      the real part of a complex number\n",
      "\n"
     ]
    }
   ],
   "source": [
    "help(int)"
   ]
  },
  {
   "cell_type": "markdown",
   "id": "c540a8b4",
   "metadata": {},
   "source": [
    "## Bank øvelse\n",
    "\n",
    "Opret en Bank, en Konto, og en Kunde klasse.\n",
    "\n",
    "* Alle klasser skal være i en enkelt fil.\n",
    "* Bank klassen skal kunne indeholde mange konti.\n",
    "* Du skal kunne tilføje nye konti.\n",
    "* Konto klassen skal have relevante detaljer.\n",
    "* Kunde klassen skal også have relevante detaljer.\n",
    "* Hold dig til de teknikker, vi har dækket indtil nu.\n",
    "\n",
    "Tilføj evnen for din init metode til at håndtere forskellige inputs (parametre).\n"
   ]
  },
  {
   "cell_type": "code",
   "execution_count": 99,
   "id": "4ff0f645",
   "metadata": {},
   "outputs": [],
   "source": [
    "class Bank:\n",
    "    def __init__(self):\n",
    "        self.accounts = []\n",
    "\n",
    "    def __repr__(self):\n",
    "        return f'{self.__dict__}'"
   ]
  },
  {
   "cell_type": "code",
   "execution_count": 100,
   "id": "98a30a45",
   "metadata": {},
   "outputs": [],
   "source": [
    "class Account:\n",
    "    def __init__(self, acc, customer):\n",
    "        self.account_number = acc\n",
    "        self.cust = customer\n",
    "\n",
    "    def __repr__(self):\n",
    "        return f'{self.__dict__}'"
   ]
  },
  {
   "cell_type": "code",
   "execution_count": 101,
   "id": "473027f4",
   "metadata": {},
   "outputs": [],
   "source": [
    "class Customer:\n",
    "    def __init__(self, name):\n",
    "        self.name = name\n",
    "\n",
    "    def __repr__(self):\n",
    "        return f'{self.__dict__}'"
   ]
  },
  {
   "cell_type": "code",
   "execution_count": 102,
   "id": "cab33d64",
   "metadata": {},
   "outputs": [
    {
     "name": "stdout",
     "output_type": "stream",
     "text": [
      "{'accounts': [{'account_number': 123, 'cust': {'name': 'Claus'}}]}\n"
     ]
    }
   ],
   "source": [
    "nordea = Bank()\n",
    "nordea.accounts.append(  Account(123, Customer('Claus') )  )\n",
    "\n",
    "print(nordea)"
   ]
  }
 ],
 "metadata": {
  "kernelspec": {
   "display_name": ".venv",
   "language": "python",
   "name": "python3"
  },
  "language_info": {
   "codemirror_mode": {
    "name": "ipython",
    "version": 3
   },
   "file_extension": ".py",
   "mimetype": "text/x-python",
   "name": "python",
   "nbconvert_exporter": "python",
   "pygments_lexer": "ipython3",
   "version": "3.13.8"
  }
 },
 "nbformat": 4,
 "nbformat_minor": 5
}
